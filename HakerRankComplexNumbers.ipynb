{
 "cells": [
  {
   "cell_type": "code",
   "execution_count": 5,
   "id": "1994687d",
   "metadata": {},
   "outputs": [
    {
     "name": "stdout",
     "output_type": "stream",
     "text": [
      "2 1\n",
      "5 6\n",
      "7.00+7.00i\n",
      "-3.00-5.00i\n",
      "4.00+17.00i\n",
      "0.26-0.11i\n",
      "2.24+0.00i\n",
      "7.81+0.00i\n"
     ]
    }
   ],
   "source": [
    "import math\n",
    "\n",
    "class Complex(object):\n",
    "    def __init__(self, real, imaginary):\n",
    "        self.real, self.imaginary = real, imaginary\n",
    "\n",
    "    def __add__(self, no):\n",
    "        real = self.real + no.real\n",
    "        imag = self.imaginary + no.imaginary\n",
    "        return __class__(real, imag)\n",
    "        \n",
    "    def __sub__(self, no):\n",
    "        real = self.real - no.real\n",
    "        imag = self.imaginary - no.imaginary\n",
    "        return __class__(real, imag)\n",
    "        \n",
    "    def __mul__(self, no):\n",
    "        real = self.real*no.real - self.imaginary*no.imaginary\n",
    "        imag = self.real*no.imaginary + no.real*self.imaginary\n",
    "        return __class__(real, imag)\n",
    "\n",
    "\n",
    "    def __truediv__(self, no):\n",
    "        real = self.real*no.real + self.imaginary*no.imaginary\n",
    "        real /= pow(no.real, 2) + pow(no.imaginary, 2)\n",
    "        imag = self.imaginary*no.real - self.real*no.imaginary\n",
    "        imag /= pow(no.real, 2) + pow(no.imaginary, 2)\n",
    "        return __class__(real, imag)\n",
    "\n",
    "    def mod(self):\n",
    "        real = math.sqrt(pow(self.real,2) + pow(self.imaginary, 2))\n",
    "        imag = 0.00\n",
    "        return __class__(real, imag)\n",
    "\n",
    "    def __str__(self):\n",
    "        if self.imaginary == 0:\n",
    "            result = \"%.2f+0.00i\" % (self.real)\n",
    "        elif self.real == 0:\n",
    "            if self.imaginary >= 0:\n",
    "                result = \"0.00+%.2fi\" % (self.imaginary)\n",
    "            else:\n",
    "                result = \"0.00-%.2fi\" % (abs(self.imaginary))\n",
    "        elif self.imaginary > 0:\n",
    "            result = \"%.2f+%.2fi\" % (self.real, self.imaginary)\n",
    "        else:\n",
    "            result = \"%.2f-%.2fi\" % (self.real, abs(self.imaginary))\n",
    "        return result\n",
    "\n",
    "\n",
    "if __name__ == '__main__':\n",
    "    c = map(float, input().split())\n",
    "    d = map(float, input().split())\n",
    "    x = Complex(*c)\n",
    "    y = Complex(*d)\n",
    "    print(*map(str, [x+y, x-y, x*y, x/y, x.mod(), y.mod()]), sep='\\n')"
   ]
  },
  {
   "cell_type": "code",
   "execution_count": null,
   "id": "53a697ae",
   "metadata": {},
   "outputs": [],
   "source": []
  }
 ],
 "metadata": {
  "kernelspec": {
   "display_name": "Python 3 (ipykernel)",
   "language": "python",
   "name": "python3"
  },
  "language_info": {
   "codemirror_mode": {
    "name": "ipython",
    "version": 3
   },
   "file_extension": ".py",
   "mimetype": "text/x-python",
   "name": "python",
   "nbconvert_exporter": "python",
   "pygments_lexer": "ipython3",
   "version": "3.9.12"
  }
 },
 "nbformat": 4,
 "nbformat_minor": 5
}
