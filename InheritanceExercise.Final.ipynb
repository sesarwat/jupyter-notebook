{
 "cells": [
  {
   "cell_type": "markdown",
   "id": "111069fb",
   "metadata": {},
   "source": [
    "You are given two classes, Person and Student, where Person is the base class and Student is the derived class. Completed code for Person and a declaration for Student are provided for you in the editor. Observe that Student inherits all the properties of Person.\n",
    "\n",
    "\n",
    "Complete the Student class by writing the following:\n",
    "\n",
    "\n",
    "A Student class constructor, which has 4 parameters:\n",
    "\n",
    "\n",
    "A string, firstName\n",
    "\n",
    "A string, lastName\n",
    "\n",
    "An integer, id \n",
    "\n",
    "An integer array (or vector) of test scores, scores\n",
    "\n",
    "A char calculate() method that calculates a Student object's average and returns the grade character representative of their calculated average:\n",
    "\n",
    "\n",
    "        A | 90-100\n",
    "        B | 80-89\n",
    "        C | 70-79\n",
    "        D | 60-69\n",
    "        F | <60"
   ]
  },
  {
   "cell_type": "code",
   "execution_count": null,
   "id": "a02d9bca",
   "metadata": {},
   "outputs": [],
   "source": [
    "class Person:\n",
    "    def __init__(self, firstName, lastName, id):\n",
    "        self.firstName = firstName\n",
    "        self.lastName = lastName\n",
    "        self.id = id\n",
    "    def printPerson(self):\n",
    "        print(\"Name:\", self.lastName + \",\", self.firstName)\n",
    "        print(\"ID:\", self.id)"
   ]
  },
  {
   "cell_type": "code",
   "execution_count": null,
   "id": "22a8f83a",
   "metadata": {},
   "outputs": [],
   "source": [
    "class Student(Person):\n",
    "    def __init__(self, firstName, lastName, id, scores):\n",
    "        Person.__init__(self, firstName, lastName, id)\n",
    "        self.scores = scores\n",
    "\n",
    "    def calculate(self):\n",
    "        grade = sum(scores) / len(scores)\n",
    "        if 90 <= grade <= 100:\n",
    "            return \"A\"\n",
    "        elif 80 <= grade < 90:\n",
    "            return \"B\"\n",
    "        elif 70 <= grade < 80:\n",
    "            return \"C\"\n",
    "        elif 60 <= grade < 70:\n",
    "            return \"D\"\n",
    "        else:\n",
    "            return \"F\""
   ]
  },
  {
   "cell_type": "code",
   "execution_count": 146,
   "id": "f59af7fe",
   "metadata": {},
   "outputs": [
    {
     "name": "stdout",
     "output_type": "stream",
     "text": [
      "Enter your first name:Shereen\n",
      "Enter your last name:Sarwat\n",
      "Enter your id:123456\n"
     ]
    }
   ],
   "source": [
    "firstName = input(\"Enter your first name:\")\n",
    "lastName = input(\"Enter your last name:\")\n",
    "id = int(input(\"Enter your id:\"))"
   ]
  },
  {
   "cell_type": "code",
   "execution_count": 150,
   "id": "bd5c01ad",
   "metadata": {},
   "outputs": [
    {
     "name": "stdout",
     "output_type": "stream",
     "text": [
      "Enter scores separated by a space:70 80 90\n"
     ]
    }
   ],
   "source": [
    "scores_input = input(\"Enter scores separated by a space:\")\n",
    "scores = list(map(int,scores_input.split(\" \")))"
   ]
  },
  {
   "cell_type": "code",
   "execution_count": 152,
   "id": "039029bf",
   "metadata": {},
   "outputs": [
    {
     "name": "stdout",
     "output_type": "stream",
     "text": [
      "Name: Sarwat, Shereen\n",
      "ID: 123456\n",
      "grade: B\n"
     ]
    }
   ],
   "source": [
    "P = Student(firstName, lastName, id, scores)\n",
    "P.printPerson()\n",
    "print(\"grade:\", P.calculate())"
   ]
  },
  {
   "cell_type": "code",
   "execution_count": 153,
   "id": "0b0aad32",
   "metadata": {},
   "outputs": [
    {
     "name": "stdout",
     "output_type": "stream",
     "text": [
      "Shereen Sarwat (ID: 123456) your scores are: [70, 80, 90]. Your final grade: B.\n"
     ]
    }
   ],
   "source": [
    "print(f\"{firstName} {lastName} (ID: {id}) your scores are: {scores}. Your final grade: {P.calculate()}.\")"
   ]
  }
 ],
 "metadata": {
  "kernelspec": {
   "display_name": "Python 3 (ipykernel)",
   "language": "python",
   "name": "python3"
  },
  "language_info": {
   "codemirror_mode": {
    "name": "ipython",
    "version": 3
   },
   "file_extension": ".py",
   "mimetype": "text/x-python",
   "name": "python",
   "nbconvert_exporter": "python",
   "pygments_lexer": "ipython3",
   "version": "3.9.12"
  }
 },
 "nbformat": 4,
 "nbformat_minor": 5
}
